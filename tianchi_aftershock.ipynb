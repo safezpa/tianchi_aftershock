{
 "cells": [
  {
   "cell_type": "markdown",
   "metadata": {},
   "source": [
    "# 初赛（6月13日-7月27日）\n",
    "## 余震捕捉AI大赛\n",
    "\n",
    "\n",
    "竞赛题目\n",
    "\n",
    "地震发生后，抗震救灾工作，特别是灾区的应急救援工作，会在第一时间全方位展开。在这场由多个部门共同参加的与时间赛跑的抢救生命的战役中，最大的敌人，就是余震。因此对余震序列进行动态的监测，是一个非常有意义的实际问题。同时它也是一个比较容易阐述的数字信号处理问题。如果需要处理的信号，是来自很多地震台站的实时连续信号，大量的余震的信号会叠加在一起，如果再加上涉及到由地震波的有限传播速度所带来的关联问题时，那么问题就会更富挑战性。本次大赛涉及的，就是这样一个可以被很清楚地阐述的问题，它不仅仅是在地震信号处理中的一个实际问题，而且对其他学科的相似问题也显然具有普遍性意义。\n",
    "\n",
    "2017年5月，中国地震局地球物理研究所与阿里云联合主办的余震捕捉AI大赛，将大数据、人工智能与地震业务相结合，通过**提供大地震前后多个地震站的海量监测数据，让参赛选手捕捉余震数量、发生时间等相关信息**来挑战中强地震后早期余震序列捕捉这一科学难题，并获得完整的、实时的余震信息，为地震应急救援、抗震救灾提供强有力的科技支撑。\n",
    "\n",
    "\n",
    "\n",
    ">**提示：**Code 和 Markdown 区域可通过 **Shift + Enter** 快捷键运行。此外，Markdown可以通过双击进入编辑模式。"
   ]
  },
  {
   "cell_type": "markdown",
   "metadata": {},
   "source": [
    "### Data\n",
    "数据说明见上级目录 ../tianchi_aftershock/\n",
    "\n",
    "[样本数据（非比赛数据）.zip]https://tianchi.aliyun.com/competition/raceOssFileDownload.do?spm=5176.100068.555.4.d3zXbf&file=%E6%A0%B7%E6%9C%AC%E6%95%B0%E6%8D%AE%EF%BC%88%E9%9D%9E%E6%AF%94%E8%B5%9B%E6%95%B0%E6%8D%AE%EF%BC%89.zip&raceId=231606\n",
    "\n",
    "因为本次大赛数据量较大，所以会采用通过OSS客户端下载的方式进行大赛数据的获取，大赛数据下载方式介绍请点击技术圈链接：https://tianchi.aliyun.com/competition/new_articleDetail.html?from=part&raceId=231606&postsId=1552\n",
    "\n",
    "|    文件名称     | 文件格式 |\n",
    "| :----------------------------------------: | :---------------------------------------------: | \n",
    "| SAC数据头文件说明.pdf |  pdf    | \n",
    "| readsac.py        |    py         | \n",
    "| station_latlon.txt        |    txt         |\n",
    "| 样本数据（非比赛数据）.zip     |    zip         |\n",
    "\n",
    "[样本数据（非比赛数据）.zip]<https://tianchi.aliyun.com/competition/raceOssFileDownload.do?spm=5176.100068.555.4.d3zXbf&file=%E6%A0%B7%E6%9C%AC%E6%95%B0%E6%8D%AE%EF%BC%88%E9%9D%9E%E6%AF%94%E8%B5%9B%E6%95%B0%E6%8D%AE%EF%BC%89.zip&raceId=231606>\n"
   ]
  },
  {
   "cell_type": "markdown",
   "metadata": {},
   "source": [
    "详细说明见readme.ipynb <http://www.gcssloop.com>"
   ]
  },
  {
   "cell_type": "code",
   "execution_count": 4,
   "metadata": {
    "collapsed": false
   },
   "outputs": [],
   "source": [
    "#import numpy as np\n",
    "#import pandas as pd\n",
    "#import visuals as vs \n",
    "#from IPython.display import display\n",
    "#from sklearn.model_selection import ShuffleSplit\n",
    "\n",
    "#%matplotlib inline\n",
    "\n"
   ]
  }
 ],
 "metadata": {
  "kernelspec": {
   "display_name": "Python 2",
   "language": "python",
   "name": "python2"
  },
  "language_info": {
   "codemirror_mode": {
    "name": "ipython",
    "version": 2
   },
   "file_extension": ".py",
   "mimetype": "text/x-python",
   "name": "python",
   "nbconvert_exporter": "python",
   "pygments_lexer": "ipython2",
   "version": "2.7.12+"
  }
 },
 "nbformat": 4,
 "nbformat_minor": 0
}
